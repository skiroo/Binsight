{
 "cells": [
  {
   "metadata": {
    "ExecuteTime": {
     "end_time": "2025-07-06T15:57:55.593194Z",
     "start_time": "2025-07-06T15:57:55.554422Z"
    }
   },
   "cell_type": "code",
   "source": [
    "import plotly.express as px\n",
    "import pandas as pd\n",
    "\n",
    "# Fusion\n",
    "loc = pd.read_csv(\"localisation.csv\")\n",
    "img = pd.read_csv(\"images.csv\")\n",
    "df = loc.merge(img, left_on=\"image_id\", right_on=\"id\")\n",
    "df = df[['latitude', 'longitude', 'etat_annot', 'fichier_nom']]\n",
    "\n",
    "# Créer la carte Mapbox\n",
    "fig = px.scatter_mapbox(\n",
    "    df,\n",
    "    lat=\"latitude\",\n",
    "    lon=\"longitude\",\n",
    "    color=\"etat_annot\",\n",
    "    hover_name=\"fichier_nom\",\n",
    "    zoom=11,\n",
    "    center={\"lat\": 48.8566, \"lon\": 2.3522},\n",
    "    color_discrete_map={\n",
    "        \"dirty\": \"red\",\n",
    "        \"clean\": \"green\"\n",
    "    },\n",
    "    height=600,\n",
    ")\n",
    "\n",
    "fig.update_layout(\n",
    "    mapbox_style=\"carto-positron\",  # ou \"open-street-map\", \"carto-darkmatter\", etc.\n",
    "    margin={\"r\": 0, \"t\": 30, \"l\": 0, \"b\": 0},\n",
    "    title=\"Carte des poubelles annotées à Paris\"\n",
    ")\n",
    "\n",
    "fig.show()"
   ],
   "id": "8b115721919c85f7",
   "outputs": [
    {
     "data": {
      "application/vnd.plotly.v1+json": {
       "data": [
        {
         "hovertemplate": "<b>%{hovertext}</b><br><br>etat_annot=dirty<br>latitude=%{lat}<br>longitude=%{lon}<extra></extra>",
         "hovertext": [
          "0003717662-666x388.jpg",
          "00569_03.jpg",
          "01670_07.jpg",
          "0dd71fdd2db2d0beb278eddb5692a156fb79a40c.temp.jpeg",
          "1300.full.jpeg",
          "1576.full.jpeg",
          "1700.full.jpeg",
          "1794.full.jpeg",
          "1992.full.jpeg",
          "20161214fg_0056_1200w.jpg",
          "2752.full.jpeg",
          "4908.full.jpeg",
          "5282.full.jpeg",
          "5440.full.jpeg",
          "5533.full.jpeg",
          "850.full.jpeg",
          "908.full.jpeg",
          "9d3051c4eee56a8149ed45d695d85093e6eee9a5.temp.jpeg",
          "b0cf2c54e4558b1171d4cb3b92dd7287fab0d964.temp.jpeg",
          "b4582c0689d487a40b80d52f2bfb5abfa9304228.temp.jpeg",
          "basura-702x395.jpg",
          "fc026b24f61b2165d89b588538270940d3dc700b.temp.jpeg",
          "WhatsApp Image 2020-05-08 at 2.18.58 PM.jpeg",
          "WhatsApp Image 2020-05-08 at 2.21.54 PM (4).jpeg",
          "WhatsApp Image 2020-05-10 at 5.07.37 PM (1).jpeg",
          "WhatsApp Image 2020-05-12 at 9.01.11 AM (27).jpeg",
          "WhatsApp Image 2020-07-11 at 5.57.47 PM (6).jpeg",
          "WhatsApp Image 2020-07-11 at 8.43.02 PM (1).jpeg",
          "WhatsApp Image 2020-07-12 at 6.25.07 PM (2).jpeg",
          "WhatsApp Image 2020-08-11 at 9.54.56 AM.jpeg",
          "WhatsApp Image 2020-08-20 at 9.03.05 AM.jpeg",
          "WhatsApp Image 2020-08-27 at 3.44.11 PM (5).jpeg",
          "WhatsApp Image 2020-09-24 at 8.49.45 AM (3).jpeg",
          "WhatsApp Image 2020-09-27 at 6.47.12 PM (2).jpeg",
          "WhatsApp Image 2020-09-30 at 4.07.03 PM.jpeg",
          "WhatsApp Image 2020-12-25 at 1.00.10 PM (3).jpeg",
          "WhatsApp Image 2020-12-26 at 12.36.51 AM.jpeg",
          "WhatsApp Image 2020-12-26 at 12.36.52 AM.jpeg",
          "WhatsApp Image 2020-12-26 at 12.36.54 AM.jpeg",
          "WhatsApp Image 2020-12-26 at 12.38.09 AM (4).jpeg",
          "WhatsApp Image 2020-12-26 at 12.38.10 AM (2).jpeg",
          "WhatsApp Image 2020-12-26 at 12.39.52 AM (1).jpeg",
          "WhatsApp Image 2020-12-26 at 12.39.52 AM (2).jpeg",
          "WhatsApp Image 2020-12-26 at 12.39.54 AM (5).jpeg",
          "WhatsApp Image 2020-12-26 at 12.40.49 AM.jpeg",
          "WhatsApp Image 2020-12-30 at 9.05.14 AM (1).jpeg"
         ],
         "lat": [
          48.85754773550216,
          48.84435298849802,
          48.88590925304197,
          48.87554673381743,
          48.83440160067258,
          48.88533596285157,
          48.85385095564526,
          48.84752535088202,
          48.83012581698371,
          48.84029510971678,
          48.84029510971678,
          48.820858664121474,
          48.82266702363911,
          48.83577567891,
          48.84029510971678,
          48.85475454823148,
          48.86909689664768,
          48.87824223178189,
          48.86695145251058,
          48.85238258349476,
          48.865935157391725,
          48.8880631370663,
          48.88648289170275,
          48.85994988969304,
          48.83475875137063,
          48.85204372213182,
          48.86841939770434,
          48.87248425252951,
          48.85983695302744,
          48.85125303649288,
          48.87245835203992,
          48.87121052149819,
          48.84935784097208,
          48.82653108700946,
          48.82489239035397,
          48.86420472058408,
          48.8625672561924,
          48.85917922864451,
          48.8588404132853,
          48.83965817612653,
          48.85540599800125,
          48.83988413983664,
          48.83524209185544,
          48.83278445403739,
          48.833208193297,
          48.82895778916667
         ],
         "legendgroup": "dirty",
         "lon": [
          2.379520437386411,
          2.306424878758241,
          2.3009317148043853,
          2.358873402559311,
          2.384406829442831,
          2.389899993396688,
          2.3393399071013583,
          2.329040224687878,
          2.3063809233782218,
          2.2916180452522337,
          2.2723919714137373,
          2.3668057268706386,
          2.342086489078286,
          2.369895631594683,
          2.277885135367593,
          2.2775418126204774,
          2.284236606294488,
          2.3491246054994126,
          2.381568605101875,
          2.3978764355898856,
          2.3872334304292893,
          2.3058659393627963,
          2.324577029080618,
          2.304320987000774,
          2.4001080334461395,
          2.3427731346777665,
          2.3321301298465,
          2.3213154633123456,
          2.365947420437426,
          2.3850018329023643,
          2.324992186915657,
          2.3803843148881865,
          2.3803801513326657,
          2.3627976604333725,
          2.3448590466606007,
          2.363075973414468,
          2.3571536561418056,
          2.3749206080994627,
          2.387065650042677,
          2.3986260710903977,
          2.407636835420932,
          2.390944224772958,
          2.360956392662066,
          2.3577806573129565,
          2.355763636212847,
          2.332366055692428
         ],
         "marker": {
          "color": "red"
         },
         "mode": "markers",
         "name": "dirty",
         "showlegend": true,
         "subplot": "mapbox",
         "type": "scattermapbox"
        },
        {
         "hovertemplate": "<b>%{hovertext}</b><br><br>etat_annot=clean<br>latitude=%{lat}<br>longitude=%{lon}<extra></extra>",
         "hovertext": [
          "00546_01.jpg",
          "00566_02.jpg",
          "00594_00.jpg",
          "00798_02.jpg",
          "00829_07.jpg",
          "01300_00.jpg",
          "01787_01.jpg",
          "01906_01.jpg",
          "02136_04.jpg",
          "02248_00.jpg",
          "02587_03.jpg",
          "02752_02.jpg",
          "02887_03.jpg",
          "03060_07.jpg",
          "03213_03.jpg",
          "1080.full.jpeg",
          "42c85ef764ff1f8b34baad092bc87341f3b8e82f.temp.jpeg",
          "dsc0132_4.jpg.png",
          "WhatsApp Image 2020-05-09 at 2.08.14 PM (3).jpeg",
          "WhatsApp Image 2020-05-10 at 3.38.05 PM (11).jpeg",
          "WhatsApp Image 2020-05-10 at 4.59.16 PM (8).jpeg",
          "WhatsApp Image 2020-05-10 at 5.07.37 PM (5).jpeg",
          "WhatsApp Image 2020-05-11 at 12.41.25 AM (5).jpeg",
          "WhatsApp Image 2020-05-18 at 11.21.17 AM (6).jpeg",
          "WhatsApp Image 2020-05-18 at 11.57.03 AM (5).jpeg",
          "WhatsApp Image 2020-05-24 at 5.18.12 PM (5).jpeg",
          "WhatsApp Image 2020-05-24 at 5.18.12 PM (8).jpeg",
          "WhatsApp Image 2020-05-24 at 5.24.32 PM (6).jpeg",
          "WhatsApp Image 2020-06-29 at 8.55.43 AM (1).jpeg",
          "WhatsApp Image 2020-07-06 at 9.41.53 AM (1).jpeg",
          "WhatsApp Image 2020-08-21 at 9.54.56 AM (4).jpeg",
          "WhatsApp Image 2020-08-25 at 12.56.50 PM (2).jpeg",
          "WhatsApp Image 2020-09-21 at 8.53.14 AM.jpeg",
          "WhatsApp Image 2020-09-21 at 8.53.15 AM (1).jpeg",
          "WhatsApp Image 2020-09-27 at 5.34.18 PM (3).jpeg",
          "WhatsApp Image 2020-09-30 at 4.07.58 PM.jpeg",
          "WhatsApp Image 2020-10-03 at 1.20.09 PM (1).jpeg",
          "WhatsApp Image 2020-10-04 at 10.35.23 AM (9).jpeg",
          "WhatsApp Image 2020-10-04 at 10.35.23 AM.jpeg",
          "WhatsApp Image 2020-10-10 at 12.11.11 PM (2).jpeg",
          "WhatsApp Image 2020-10-10 at 2.40.51 PM (1).jpeg",
          "WhatsApp Image 2020-10-14 at 10.34.29 PM.jpeg",
          "WhatsApp Image 2020-10-15 at 9.23.28 AM (2).jpeg",
          "WhatsApp Image 2020-10-20 at 7.14.11 PM (10).jpeg",
          "WhatsApp Image 2020-10-20 at 7.29.51 PM (2).jpeg",
          "WhatsApp Image 2020-10-26 at 9.19.12 AM.jpeg",
          "WhatsApp Image 2020-10-26 at 9.19.14 AM (1).jpeg",
          "WhatsApp Image 2020-10-26 at 9.25.11 AM (2).jpeg",
          "WhatsApp Image 2020-10-27 at 9.33.26 AM (19).jpeg",
          "WhatsApp Image 2020-11-02 at 7.23.13 PM (5).jpeg",
          "WhatsApp Image 2020-11-16 at 8.37.14 PM.jpeg",
          "WhatsApp Image 2020-12-26 at 4.28.25 PM.jpeg",
          "WhatsApp Image 2021-01-11 at 9.15.38 AM.jpeg",
          "WhatsApp Image 2021-01-29 at 6.23.22 PM.jpeg"
         ],
         "lat": [
          48.87597502472045,
          48.83576641700781,
          48.8646837337424,
          48.84435298849802,
          48.82265775931358,
          48.8280824473948,
          48.875071815211705,
          48.852288608891314,
          48.86279219342415,
          48.871640395088846,
          48.88703310554147,
          48.88057058219778,
          48.88395716137169,
          48.88361851374505,
          48.88220745735854,
          48.87413544971104,
          48.82266702363911,
          48.89562504851457,
          48.85373800601172,
          48.84809017009959,
          48.849671628373216,
          48.82707462720574,
          48.86062750309803,
          48.84391036136516,
          48.83848738691174,
          48.8338547977046,
          48.82956079611101,
          48.830351824056585,
          48.82447531827343,
          48.82402325065977,
          48.87039773667337,
          48.87948638801257,
          48.860595768921,
          48.85401688003864,
          48.84010351485887,
          48.82909290842539,
          48.84468527759112,
          48.85601387961548,
          48.87069073325553,
          48.87354168242536,
          48.88419300652464,
          48.872041203172095,
          48.875512569132326,
          48.89200753781557,
          48.89467767295408,
          48.89552410043965,
          48.891743280046704,
          48.890242662940345,
          48.884912990078426,
          48.87612122951943,
          48.867677097176575,
          48.83385840177164,
          48.83155686537874,
          48.8334703264635
         ],
         "legendgroup": "clean",
         "lon": [
          2.355176708848714,
          2.3634164547794985,
          2.4039285389391867,
          2.265912794598553,
          2.3695962642275865,
          2.31947114314865,
          2.3249643071025057,
          2.3561208463540533,
          2.337323925627764,
          2.30084573681743,
          2.30488590009491,
          2.299564397514612,
          2.3175030110938626,
          2.33398250314386,
          2.3503761645681904,
          2.355268513714593,
          2.336250002377314,
          2.3360783411090047,
          2.29264801359883,
          2.3544461080797108,
          2.363372499504727,
          2.3147923307878124,
          2.270847019156964,
          2.3304135157815904,
          2.3551327535739426,
          2.344489748440508,
          2.3326451136650057,
          2.3812252823819207,
          2.350497896515038,
          2.3307568386509314,
          2.3210868906672126,
          2.3499260016278165,
          2.3868216164526315,
          2.378925193262173,
          2.398308903650568,
          2.3175056386796697,
          2.3079227463629546,
          2.280433229880099,
          2.2908064312782246,
          2.281150479203232,
          2.3066290639439715,
          2.3705780961534084,
          2.358301692928174,
          2.383003689204904,
          2.3444868651773056,
          2.361653002199516,
          2.336719188174756,
          2.3231155524598672,
          2.3474261497374345,
          2.346536505780239,
          2.3702428356077783,
          2.345797127257033,
          2.319019383726875,
          2.296307429050924
         ],
         "marker": {
          "color": "green"
         },
         "mode": "markers",
         "name": "clean",
         "showlegend": true,
         "subplot": "mapbox",
         "type": "scattermapbox"
        }
       ],
       "layout": {
        "template": {
         "data": {
          "histogram2dcontour": [
           {
            "type": "histogram2dcontour",
            "colorbar": {
             "outlinewidth": 0,
             "ticks": ""
            },
            "colorscale": [
             [
              0.0,
              "#0d0887"
             ],
             [
              0.1111111111111111,
              "#46039f"
             ],
             [
              0.2222222222222222,
              "#7201a8"
             ],
             [
              0.3333333333333333,
              "#9c179e"
             ],
             [
              0.4444444444444444,
              "#bd3786"
             ],
             [
              0.5555555555555556,
              "#d8576b"
             ],
             [
              0.6666666666666666,
              "#ed7953"
             ],
             [
              0.7777777777777778,
              "#fb9f3a"
             ],
             [
              0.8888888888888888,
              "#fdca26"
             ],
             [
              1.0,
              "#f0f921"
             ]
            ]
           }
          ],
          "choropleth": [
           {
            "type": "choropleth",
            "colorbar": {
             "outlinewidth": 0,
             "ticks": ""
            }
           }
          ],
          "histogram2d": [
           {
            "type": "histogram2d",
            "colorbar": {
             "outlinewidth": 0,
             "ticks": ""
            },
            "colorscale": [
             [
              0.0,
              "#0d0887"
             ],
             [
              0.1111111111111111,
              "#46039f"
             ],
             [
              0.2222222222222222,
              "#7201a8"
             ],
             [
              0.3333333333333333,
              "#9c179e"
             ],
             [
              0.4444444444444444,
              "#bd3786"
             ],
             [
              0.5555555555555556,
              "#d8576b"
             ],
             [
              0.6666666666666666,
              "#ed7953"
             ],
             [
              0.7777777777777778,
              "#fb9f3a"
             ],
             [
              0.8888888888888888,
              "#fdca26"
             ],
             [
              1.0,
              "#f0f921"
             ]
            ]
           }
          ],
          "heatmap": [
           {
            "type": "heatmap",
            "colorbar": {
             "outlinewidth": 0,
             "ticks": ""
            },
            "colorscale": [
             [
              0.0,
              "#0d0887"
             ],
             [
              0.1111111111111111,
              "#46039f"
             ],
             [
              0.2222222222222222,
              "#7201a8"
             ],
             [
              0.3333333333333333,
              "#9c179e"
             ],
             [
              0.4444444444444444,
              "#bd3786"
             ],
             [
              0.5555555555555556,
              "#d8576b"
             ],
             [
              0.6666666666666666,
              "#ed7953"
             ],
             [
              0.7777777777777778,
              "#fb9f3a"
             ],
             [
              0.8888888888888888,
              "#fdca26"
             ],
             [
              1.0,
              "#f0f921"
             ]
            ]
           }
          ],
          "heatmapgl": [
           {
            "type": "heatmapgl",
            "colorbar": {
             "outlinewidth": 0,
             "ticks": ""
            },
            "colorscale": [
             [
              0.0,
              "#0d0887"
             ],
             [
              0.1111111111111111,
              "#46039f"
             ],
             [
              0.2222222222222222,
              "#7201a8"
             ],
             [
              0.3333333333333333,
              "#9c179e"
             ],
             [
              0.4444444444444444,
              "#bd3786"
             ],
             [
              0.5555555555555556,
              "#d8576b"
             ],
             [
              0.6666666666666666,
              "#ed7953"
             ],
             [
              0.7777777777777778,
              "#fb9f3a"
             ],
             [
              0.8888888888888888,
              "#fdca26"
             ],
             [
              1.0,
              "#f0f921"
             ]
            ]
           }
          ],
          "contourcarpet": [
           {
            "type": "contourcarpet",
            "colorbar": {
             "outlinewidth": 0,
             "ticks": ""
            }
           }
          ],
          "contour": [
           {
            "type": "contour",
            "colorbar": {
             "outlinewidth": 0,
             "ticks": ""
            },
            "colorscale": [
             [
              0.0,
              "#0d0887"
             ],
             [
              0.1111111111111111,
              "#46039f"
             ],
             [
              0.2222222222222222,
              "#7201a8"
             ],
             [
              0.3333333333333333,
              "#9c179e"
             ],
             [
              0.4444444444444444,
              "#bd3786"
             ],
             [
              0.5555555555555556,
              "#d8576b"
             ],
             [
              0.6666666666666666,
              "#ed7953"
             ],
             [
              0.7777777777777778,
              "#fb9f3a"
             ],
             [
              0.8888888888888888,
              "#fdca26"
             ],
             [
              1.0,
              "#f0f921"
             ]
            ]
           }
          ],
          "surface": [
           {
            "type": "surface",
            "colorbar": {
             "outlinewidth": 0,
             "ticks": ""
            },
            "colorscale": [
             [
              0.0,
              "#0d0887"
             ],
             [
              0.1111111111111111,
              "#46039f"
             ],
             [
              0.2222222222222222,
              "#7201a8"
             ],
             [
              0.3333333333333333,
              "#9c179e"
             ],
             [
              0.4444444444444444,
              "#bd3786"
             ],
             [
              0.5555555555555556,
              "#d8576b"
             ],
             [
              0.6666666666666666,
              "#ed7953"
             ],
             [
              0.7777777777777778,
              "#fb9f3a"
             ],
             [
              0.8888888888888888,
              "#fdca26"
             ],
             [
              1.0,
              "#f0f921"
             ]
            ]
           }
          ],
          "mesh3d": [
           {
            "type": "mesh3d",
            "colorbar": {
             "outlinewidth": 0,
             "ticks": ""
            }
           }
          ],
          "scatter": [
           {
            "fillpattern": {
             "fillmode": "overlay",
             "size": 10,
             "solidity": 0.2
            },
            "type": "scatter"
           }
          ],
          "parcoords": [
           {
            "type": "parcoords",
            "line": {
             "colorbar": {
              "outlinewidth": 0,
              "ticks": ""
             }
            }
           }
          ],
          "scatterpolargl": [
           {
            "type": "scatterpolargl",
            "marker": {
             "colorbar": {
              "outlinewidth": 0,
              "ticks": ""
             }
            }
           }
          ],
          "bar": [
           {
            "error_x": {
             "color": "#2a3f5f"
            },
            "error_y": {
             "color": "#2a3f5f"
            },
            "marker": {
             "line": {
              "color": "#E5ECF6",
              "width": 0.5
             },
             "pattern": {
              "fillmode": "overlay",
              "size": 10,
              "solidity": 0.2
             }
            },
            "type": "bar"
           }
          ],
          "scattergeo": [
           {
            "type": "scattergeo",
            "marker": {
             "colorbar": {
              "outlinewidth": 0,
              "ticks": ""
             }
            }
           }
          ],
          "scatterpolar": [
           {
            "type": "scatterpolar",
            "marker": {
             "colorbar": {
              "outlinewidth": 0,
              "ticks": ""
             }
            }
           }
          ],
          "histogram": [
           {
            "marker": {
             "pattern": {
              "fillmode": "overlay",
              "size": 10,
              "solidity": 0.2
             }
            },
            "type": "histogram"
           }
          ],
          "scattergl": [
           {
            "type": "scattergl",
            "marker": {
             "colorbar": {
              "outlinewidth": 0,
              "ticks": ""
             }
            }
           }
          ],
          "scatter3d": [
           {
            "type": "scatter3d",
            "line": {
             "colorbar": {
              "outlinewidth": 0,
              "ticks": ""
             }
            },
            "marker": {
             "colorbar": {
              "outlinewidth": 0,
              "ticks": ""
             }
            }
           }
          ],
          "scattermapbox": [
           {
            "type": "scattermapbox",
            "marker": {
             "colorbar": {
              "outlinewidth": 0,
              "ticks": ""
             }
            }
           }
          ],
          "scatterternary": [
           {
            "type": "scatterternary",
            "marker": {
             "colorbar": {
              "outlinewidth": 0,
              "ticks": ""
             }
            }
           }
          ],
          "scattercarpet": [
           {
            "type": "scattercarpet",
            "marker": {
             "colorbar": {
              "outlinewidth": 0,
              "ticks": ""
             }
            }
           }
          ],
          "carpet": [
           {
            "aaxis": {
             "endlinecolor": "#2a3f5f",
             "gridcolor": "white",
             "linecolor": "white",
             "minorgridcolor": "white",
             "startlinecolor": "#2a3f5f"
            },
            "baxis": {
             "endlinecolor": "#2a3f5f",
             "gridcolor": "white",
             "linecolor": "white",
             "minorgridcolor": "white",
             "startlinecolor": "#2a3f5f"
            },
            "type": "carpet"
           }
          ],
          "table": [
           {
            "cells": {
             "fill": {
              "color": "#EBF0F8"
             },
             "line": {
              "color": "white"
             }
            },
            "header": {
             "fill": {
              "color": "#C8D4E3"
             },
             "line": {
              "color": "white"
             }
            },
            "type": "table"
           }
          ],
          "barpolar": [
           {
            "marker": {
             "line": {
              "color": "#E5ECF6",
              "width": 0.5
             },
             "pattern": {
              "fillmode": "overlay",
              "size": 10,
              "solidity": 0.2
             }
            },
            "type": "barpolar"
           }
          ],
          "pie": [
           {
            "automargin": true,
            "type": "pie"
           }
          ]
         },
         "layout": {
          "autotypenumbers": "strict",
          "colorway": [
           "#636efa",
           "#EF553B",
           "#00cc96",
           "#ab63fa",
           "#FFA15A",
           "#19d3f3",
           "#FF6692",
           "#B6E880",
           "#FF97FF",
           "#FECB52"
          ],
          "font": {
           "color": "#2a3f5f"
          },
          "hovermode": "closest",
          "hoverlabel": {
           "align": "left"
          },
          "paper_bgcolor": "white",
          "plot_bgcolor": "#E5ECF6",
          "polar": {
           "bgcolor": "#E5ECF6",
           "angularaxis": {
            "gridcolor": "white",
            "linecolor": "white",
            "ticks": ""
           },
           "radialaxis": {
            "gridcolor": "white",
            "linecolor": "white",
            "ticks": ""
           }
          },
          "ternary": {
           "bgcolor": "#E5ECF6",
           "aaxis": {
            "gridcolor": "white",
            "linecolor": "white",
            "ticks": ""
           },
           "baxis": {
            "gridcolor": "white",
            "linecolor": "white",
            "ticks": ""
           },
           "caxis": {
            "gridcolor": "white",
            "linecolor": "white",
            "ticks": ""
           }
          },
          "coloraxis": {
           "colorbar": {
            "outlinewidth": 0,
            "ticks": ""
           }
          },
          "colorscale": {
           "sequential": [
            [
             0.0,
             "#0d0887"
            ],
            [
             0.1111111111111111,
             "#46039f"
            ],
            [
             0.2222222222222222,
             "#7201a8"
            ],
            [
             0.3333333333333333,
             "#9c179e"
            ],
            [
             0.4444444444444444,
             "#bd3786"
            ],
            [
             0.5555555555555556,
             "#d8576b"
            ],
            [
             0.6666666666666666,
             "#ed7953"
            ],
            [
             0.7777777777777778,
             "#fb9f3a"
            ],
            [
             0.8888888888888888,
             "#fdca26"
            ],
            [
             1.0,
             "#f0f921"
            ]
           ],
           "sequentialminus": [
            [
             0.0,
             "#0d0887"
            ],
            [
             0.1111111111111111,
             "#46039f"
            ],
            [
             0.2222222222222222,
             "#7201a8"
            ],
            [
             0.3333333333333333,
             "#9c179e"
            ],
            [
             0.4444444444444444,
             "#bd3786"
            ],
            [
             0.5555555555555556,
             "#d8576b"
            ],
            [
             0.6666666666666666,
             "#ed7953"
            ],
            [
             0.7777777777777778,
             "#fb9f3a"
            ],
            [
             0.8888888888888888,
             "#fdca26"
            ],
            [
             1.0,
             "#f0f921"
            ]
           ],
           "diverging": [
            [
             0,
             "#8e0152"
            ],
            [
             0.1,
             "#c51b7d"
            ],
            [
             0.2,
             "#de77ae"
            ],
            [
             0.3,
             "#f1b6da"
            ],
            [
             0.4,
             "#fde0ef"
            ],
            [
             0.5,
             "#f7f7f7"
            ],
            [
             0.6,
             "#e6f5d0"
            ],
            [
             0.7,
             "#b8e186"
            ],
            [
             0.8,
             "#7fbc41"
            ],
            [
             0.9,
             "#4d9221"
            ],
            [
             1,
             "#276419"
            ]
           ]
          },
          "xaxis": {
           "gridcolor": "white",
           "linecolor": "white",
           "ticks": "",
           "title": {
            "standoff": 15
           },
           "zerolinecolor": "white",
           "automargin": true,
           "zerolinewidth": 2
          },
          "yaxis": {
           "gridcolor": "white",
           "linecolor": "white",
           "ticks": "",
           "title": {
            "standoff": 15
           },
           "zerolinecolor": "white",
           "automargin": true,
           "zerolinewidth": 2
          },
          "scene": {
           "xaxis": {
            "backgroundcolor": "#E5ECF6",
            "gridcolor": "white",
            "linecolor": "white",
            "showbackground": true,
            "ticks": "",
            "zerolinecolor": "white",
            "gridwidth": 2
           },
           "yaxis": {
            "backgroundcolor": "#E5ECF6",
            "gridcolor": "white",
            "linecolor": "white",
            "showbackground": true,
            "ticks": "",
            "zerolinecolor": "white",
            "gridwidth": 2
           },
           "zaxis": {
            "backgroundcolor": "#E5ECF6",
            "gridcolor": "white",
            "linecolor": "white",
            "showbackground": true,
            "ticks": "",
            "zerolinecolor": "white",
            "gridwidth": 2
           }
          },
          "shapedefaults": {
           "line": {
            "color": "#2a3f5f"
           }
          },
          "annotationdefaults": {
           "arrowcolor": "#2a3f5f",
           "arrowhead": 0,
           "arrowwidth": 1
          },
          "geo": {
           "bgcolor": "white",
           "landcolor": "#E5ECF6",
           "subunitcolor": "white",
           "showland": true,
           "showlakes": true,
           "lakecolor": "white"
          },
          "title": {
           "x": 0.05
          },
          "mapbox": {
           "style": "light"
          }
         }
        },
        "mapbox": {
         "domain": {
          "x": [
           0.0,
           1.0
          ],
          "y": [
           0.0,
           1.0
          ]
         },
         "center": {
          "lat": 48.8566,
          "lon": 2.3522
         },
         "zoom": 11,
         "style": "carto-positron"
        },
        "legend": {
         "title": {
          "text": "etat_annot"
         },
         "tracegroupgap": 0
        },
        "margin": {
         "t": 30,
         "r": 0,
         "l": 0,
         "b": 0
        },
        "height": 600,
        "title": {
         "text": "Carte des poubelles annotées à Paris"
        }
       },
       "config": {
        "plotlyServerURL": "https://plot.ly"
       }
      },
      "text/html": [
       "<div>                            <div id=\"5f25978e-db6c-4b54-b292-e0fdcef08572\" class=\"plotly-graph-div\" style=\"height:600px; width:100%;\"></div>            <script type=\"text/javascript\">                require([\"plotly\"], function(Plotly) {                    window.PLOTLYENV=window.PLOTLYENV || {};                                    if (document.getElementById(\"5f25978e-db6c-4b54-b292-e0fdcef08572\")) {                    Plotly.newPlot(                        \"5f25978e-db6c-4b54-b292-e0fdcef08572\",                        [{\"hovertemplate\":\"\\u003cb\\u003e%{hovertext}\\u003c\\u002fb\\u003e\\u003cbr\\u003e\\u003cbr\\u003eetat_annot=dirty\\u003cbr\\u003elatitude=%{lat}\\u003cbr\\u003elongitude=%{lon}\\u003cextra\\u003e\\u003c\\u002fextra\\u003e\",\"hovertext\":[\"0003717662-666x388.jpg\",\"00569_03.jpg\",\"01670_07.jpg\",\"0dd71fdd2db2d0beb278eddb5692a156fb79a40c.temp.jpeg\",\"1300.full.jpeg\",\"1576.full.jpeg\",\"1700.full.jpeg\",\"1794.full.jpeg\",\"1992.full.jpeg\",\"20161214fg_0056_1200w.jpg\",\"2752.full.jpeg\",\"4908.full.jpeg\",\"5282.full.jpeg\",\"5440.full.jpeg\",\"5533.full.jpeg\",\"850.full.jpeg\",\"908.full.jpeg\",\"9d3051c4eee56a8149ed45d695d85093e6eee9a5.temp.jpeg\",\"b0cf2c54e4558b1171d4cb3b92dd7287fab0d964.temp.jpeg\",\"b4582c0689d487a40b80d52f2bfb5abfa9304228.temp.jpeg\",\"basura-702x395.jpg\",\"fc026b24f61b2165d89b588538270940d3dc700b.temp.jpeg\",\"WhatsApp Image 2020-05-08 at 2.18.58 PM.jpeg\",\"WhatsApp Image 2020-05-08 at 2.21.54 PM (4).jpeg\",\"WhatsApp Image 2020-05-10 at 5.07.37 PM (1).jpeg\",\"WhatsApp Image 2020-05-12 at 9.01.11 AM (27).jpeg\",\"WhatsApp Image 2020-07-11 at 5.57.47 PM (6).jpeg\",\"WhatsApp Image 2020-07-11 at 8.43.02 PM (1).jpeg\",\"WhatsApp Image 2020-07-12 at 6.25.07 PM (2).jpeg\",\"WhatsApp Image 2020-08-11 at 9.54.56 AM.jpeg\",\"WhatsApp Image 2020-08-20 at 9.03.05 AM.jpeg\",\"WhatsApp Image 2020-08-27 at 3.44.11 PM (5).jpeg\",\"WhatsApp Image 2020-09-24 at 8.49.45 AM (3).jpeg\",\"WhatsApp Image 2020-09-27 at 6.47.12 PM (2).jpeg\",\"WhatsApp Image 2020-09-30 at 4.07.03 PM.jpeg\",\"WhatsApp Image 2020-12-25 at 1.00.10 PM (3).jpeg\",\"WhatsApp Image 2020-12-26 at 12.36.51 AM.jpeg\",\"WhatsApp Image 2020-12-26 at 12.36.52 AM.jpeg\",\"WhatsApp Image 2020-12-26 at 12.36.54 AM.jpeg\",\"WhatsApp Image 2020-12-26 at 12.38.09 AM (4).jpeg\",\"WhatsApp Image 2020-12-26 at 12.38.10 AM (2).jpeg\",\"WhatsApp Image 2020-12-26 at 12.39.52 AM (1).jpeg\",\"WhatsApp Image 2020-12-26 at 12.39.52 AM (2).jpeg\",\"WhatsApp Image 2020-12-26 at 12.39.54 AM (5).jpeg\",\"WhatsApp Image 2020-12-26 at 12.40.49 AM.jpeg\",\"WhatsApp Image 2020-12-30 at 9.05.14 AM (1).jpeg\"],\"lat\":[48.85754773550216,48.84435298849802,48.88590925304197,48.87554673381743,48.83440160067258,48.88533596285157,48.85385095564526,48.84752535088202,48.83012581698371,48.84029510971678,48.84029510971678,48.820858664121474,48.82266702363911,48.83577567891,48.84029510971678,48.85475454823148,48.86909689664768,48.87824223178189,48.86695145251058,48.85238258349476,48.865935157391725,48.8880631370663,48.88648289170275,48.85994988969304,48.83475875137063,48.85204372213182,48.86841939770434,48.87248425252951,48.85983695302744,48.85125303649288,48.87245835203992,48.87121052149819,48.84935784097208,48.82653108700946,48.82489239035397,48.86420472058408,48.8625672561924,48.85917922864451,48.8588404132853,48.83965817612653,48.85540599800125,48.83988413983664,48.83524209185544,48.83278445403739,48.833208193297,48.82895778916667],\"legendgroup\":\"dirty\",\"lon\":[2.379520437386411,2.306424878758241,2.3009317148043853,2.358873402559311,2.384406829442831,2.389899993396688,2.3393399071013583,2.329040224687878,2.3063809233782218,2.2916180452522337,2.2723919714137373,2.3668057268706386,2.342086489078286,2.369895631594683,2.277885135367593,2.2775418126204774,2.284236606294488,2.3491246054994126,2.381568605101875,2.3978764355898856,2.3872334304292893,2.3058659393627963,2.324577029080618,2.304320987000774,2.4001080334461395,2.3427731346777665,2.3321301298465,2.3213154633123456,2.365947420437426,2.3850018329023643,2.324992186915657,2.3803843148881865,2.3803801513326657,2.3627976604333725,2.3448590466606007,2.363075973414468,2.3571536561418056,2.3749206080994627,2.387065650042677,2.3986260710903977,2.407636835420932,2.390944224772958,2.360956392662066,2.3577806573129565,2.355763636212847,2.332366055692428],\"marker\":{\"color\":\"red\"},\"mode\":\"markers\",\"name\":\"dirty\",\"showlegend\":true,\"subplot\":\"mapbox\",\"type\":\"scattermapbox\"},{\"hovertemplate\":\"\\u003cb\\u003e%{hovertext}\\u003c\\u002fb\\u003e\\u003cbr\\u003e\\u003cbr\\u003eetat_annot=clean\\u003cbr\\u003elatitude=%{lat}\\u003cbr\\u003elongitude=%{lon}\\u003cextra\\u003e\\u003c\\u002fextra\\u003e\",\"hovertext\":[\"00546_01.jpg\",\"00566_02.jpg\",\"00594_00.jpg\",\"00798_02.jpg\",\"00829_07.jpg\",\"01300_00.jpg\",\"01787_01.jpg\",\"01906_01.jpg\",\"02136_04.jpg\",\"02248_00.jpg\",\"02587_03.jpg\",\"02752_02.jpg\",\"02887_03.jpg\",\"03060_07.jpg\",\"03213_03.jpg\",\"1080.full.jpeg\",\"42c85ef764ff1f8b34baad092bc87341f3b8e82f.temp.jpeg\",\"dsc0132_4.jpg.png\",\"WhatsApp Image 2020-05-09 at 2.08.14 PM (3).jpeg\",\"WhatsApp Image 2020-05-10 at 3.38.05 PM (11).jpeg\",\"WhatsApp Image 2020-05-10 at 4.59.16 PM (8).jpeg\",\"WhatsApp Image 2020-05-10 at 5.07.37 PM (5).jpeg\",\"WhatsApp Image 2020-05-11 at 12.41.25 AM (5).jpeg\",\"WhatsApp Image 2020-05-18 at 11.21.17 AM (6).jpeg\",\"WhatsApp Image 2020-05-18 at 11.57.03 AM (5).jpeg\",\"WhatsApp Image 2020-05-24 at 5.18.12 PM (5).jpeg\",\"WhatsApp Image 2020-05-24 at 5.18.12 PM (8).jpeg\",\"WhatsApp Image 2020-05-24 at 5.24.32 PM (6).jpeg\",\"WhatsApp Image 2020-06-29 at 8.55.43 AM (1).jpeg\",\"WhatsApp Image 2020-07-06 at 9.41.53 AM (1).jpeg\",\"WhatsApp Image 2020-08-21 at 9.54.56 AM (4).jpeg\",\"WhatsApp Image 2020-08-25 at 12.56.50 PM (2).jpeg\",\"WhatsApp Image 2020-09-21 at 8.53.14 AM.jpeg\",\"WhatsApp Image 2020-09-21 at 8.53.15 AM (1).jpeg\",\"WhatsApp Image 2020-09-27 at 5.34.18 PM (3).jpeg\",\"WhatsApp Image 2020-09-30 at 4.07.58 PM.jpeg\",\"WhatsApp Image 2020-10-03 at 1.20.09 PM (1).jpeg\",\"WhatsApp Image 2020-10-04 at 10.35.23 AM (9).jpeg\",\"WhatsApp Image 2020-10-04 at 10.35.23 AM.jpeg\",\"WhatsApp Image 2020-10-10 at 12.11.11 PM (2).jpeg\",\"WhatsApp Image 2020-10-10 at 2.40.51 PM (1).jpeg\",\"WhatsApp Image 2020-10-14 at 10.34.29 PM.jpeg\",\"WhatsApp Image 2020-10-15 at 9.23.28 AM (2).jpeg\",\"WhatsApp Image 2020-10-20 at 7.14.11 PM (10).jpeg\",\"WhatsApp Image 2020-10-20 at 7.29.51 PM (2).jpeg\",\"WhatsApp Image 2020-10-26 at 9.19.12 AM.jpeg\",\"WhatsApp Image 2020-10-26 at 9.19.14 AM (1).jpeg\",\"WhatsApp Image 2020-10-26 at 9.25.11 AM (2).jpeg\",\"WhatsApp Image 2020-10-27 at 9.33.26 AM (19).jpeg\",\"WhatsApp Image 2020-11-02 at 7.23.13 PM (5).jpeg\",\"WhatsApp Image 2020-11-16 at 8.37.14 PM.jpeg\",\"WhatsApp Image 2020-12-26 at 4.28.25 PM.jpeg\",\"WhatsApp Image 2021-01-11 at 9.15.38 AM.jpeg\",\"WhatsApp Image 2021-01-29 at 6.23.22 PM.jpeg\"],\"lat\":[48.87597502472045,48.83576641700781,48.8646837337424,48.84435298849802,48.82265775931358,48.8280824473948,48.875071815211705,48.852288608891314,48.86279219342415,48.871640395088846,48.88703310554147,48.88057058219778,48.88395716137169,48.88361851374505,48.88220745735854,48.87413544971104,48.82266702363911,48.89562504851457,48.85373800601172,48.84809017009959,48.849671628373216,48.82707462720574,48.86062750309803,48.84391036136516,48.83848738691174,48.8338547977046,48.82956079611101,48.830351824056585,48.82447531827343,48.82402325065977,48.87039773667337,48.87948638801257,48.860595768921,48.85401688003864,48.84010351485887,48.82909290842539,48.84468527759112,48.85601387961548,48.87069073325553,48.87354168242536,48.88419300652464,48.872041203172095,48.875512569132326,48.89200753781557,48.89467767295408,48.89552410043965,48.891743280046704,48.890242662940345,48.884912990078426,48.87612122951943,48.867677097176575,48.83385840177164,48.83155686537874,48.8334703264635],\"legendgroup\":\"clean\",\"lon\":[2.355176708848714,2.3634164547794985,2.4039285389391867,2.265912794598553,2.3695962642275865,2.31947114314865,2.3249643071025057,2.3561208463540533,2.337323925627764,2.30084573681743,2.30488590009491,2.299564397514612,2.3175030110938626,2.33398250314386,2.3503761645681904,2.355268513714593,2.336250002377314,2.3360783411090047,2.29264801359883,2.3544461080797108,2.363372499504727,2.3147923307878124,2.270847019156964,2.3304135157815904,2.3551327535739426,2.344489748440508,2.3326451136650057,2.3812252823819207,2.350497896515038,2.3307568386509314,2.3210868906672126,2.3499260016278165,2.3868216164526315,2.378925193262173,2.398308903650568,2.3175056386796697,2.3079227463629546,2.280433229880099,2.2908064312782246,2.281150479203232,2.3066290639439715,2.3705780961534084,2.358301692928174,2.383003689204904,2.3444868651773056,2.361653002199516,2.336719188174756,2.3231155524598672,2.3474261497374345,2.346536505780239,2.3702428356077783,2.345797127257033,2.319019383726875,2.296307429050924],\"marker\":{\"color\":\"green\"},\"mode\":\"markers\",\"name\":\"clean\",\"showlegend\":true,\"subplot\":\"mapbox\",\"type\":\"scattermapbox\"}],                        {\"template\":{\"data\":{\"histogram2dcontour\":[{\"type\":\"histogram2dcontour\",\"colorbar\":{\"outlinewidth\":0,\"ticks\":\"\"},\"colorscale\":[[0.0,\"#0d0887\"],[0.1111111111111111,\"#46039f\"],[0.2222222222222222,\"#7201a8\"],[0.3333333333333333,\"#9c179e\"],[0.4444444444444444,\"#bd3786\"],[0.5555555555555556,\"#d8576b\"],[0.6666666666666666,\"#ed7953\"],[0.7777777777777778,\"#fb9f3a\"],[0.8888888888888888,\"#fdca26\"],[1.0,\"#f0f921\"]]}],\"choropleth\":[{\"type\":\"choropleth\",\"colorbar\":{\"outlinewidth\":0,\"ticks\":\"\"}}],\"histogram2d\":[{\"type\":\"histogram2d\",\"colorbar\":{\"outlinewidth\":0,\"ticks\":\"\"},\"colorscale\":[[0.0,\"#0d0887\"],[0.1111111111111111,\"#46039f\"],[0.2222222222222222,\"#7201a8\"],[0.3333333333333333,\"#9c179e\"],[0.4444444444444444,\"#bd3786\"],[0.5555555555555556,\"#d8576b\"],[0.6666666666666666,\"#ed7953\"],[0.7777777777777778,\"#fb9f3a\"],[0.8888888888888888,\"#fdca26\"],[1.0,\"#f0f921\"]]}],\"heatmap\":[{\"type\":\"heatmap\",\"colorbar\":{\"outlinewidth\":0,\"ticks\":\"\"},\"colorscale\":[[0.0,\"#0d0887\"],[0.1111111111111111,\"#46039f\"],[0.2222222222222222,\"#7201a8\"],[0.3333333333333333,\"#9c179e\"],[0.4444444444444444,\"#bd3786\"],[0.5555555555555556,\"#d8576b\"],[0.6666666666666666,\"#ed7953\"],[0.7777777777777778,\"#fb9f3a\"],[0.8888888888888888,\"#fdca26\"],[1.0,\"#f0f921\"]]}],\"heatmapgl\":[{\"type\":\"heatmapgl\",\"colorbar\":{\"outlinewidth\":0,\"ticks\":\"\"},\"colorscale\":[[0.0,\"#0d0887\"],[0.1111111111111111,\"#46039f\"],[0.2222222222222222,\"#7201a8\"],[0.3333333333333333,\"#9c179e\"],[0.4444444444444444,\"#bd3786\"],[0.5555555555555556,\"#d8576b\"],[0.6666666666666666,\"#ed7953\"],[0.7777777777777778,\"#fb9f3a\"],[0.8888888888888888,\"#fdca26\"],[1.0,\"#f0f921\"]]}],\"contourcarpet\":[{\"type\":\"contourcarpet\",\"colorbar\":{\"outlinewidth\":0,\"ticks\":\"\"}}],\"contour\":[{\"type\":\"contour\",\"colorbar\":{\"outlinewidth\":0,\"ticks\":\"\"},\"colorscale\":[[0.0,\"#0d0887\"],[0.1111111111111111,\"#46039f\"],[0.2222222222222222,\"#7201a8\"],[0.3333333333333333,\"#9c179e\"],[0.4444444444444444,\"#bd3786\"],[0.5555555555555556,\"#d8576b\"],[0.6666666666666666,\"#ed7953\"],[0.7777777777777778,\"#fb9f3a\"],[0.8888888888888888,\"#fdca26\"],[1.0,\"#f0f921\"]]}],\"surface\":[{\"type\":\"surface\",\"colorbar\":{\"outlinewidth\":0,\"ticks\":\"\"},\"colorscale\":[[0.0,\"#0d0887\"],[0.1111111111111111,\"#46039f\"],[0.2222222222222222,\"#7201a8\"],[0.3333333333333333,\"#9c179e\"],[0.4444444444444444,\"#bd3786\"],[0.5555555555555556,\"#d8576b\"],[0.6666666666666666,\"#ed7953\"],[0.7777777777777778,\"#fb9f3a\"],[0.8888888888888888,\"#fdca26\"],[1.0,\"#f0f921\"]]}],\"mesh3d\":[{\"type\":\"mesh3d\",\"colorbar\":{\"outlinewidth\":0,\"ticks\":\"\"}}],\"scatter\":[{\"fillpattern\":{\"fillmode\":\"overlay\",\"size\":10,\"solidity\":0.2},\"type\":\"scatter\"}],\"parcoords\":[{\"type\":\"parcoords\",\"line\":{\"colorbar\":{\"outlinewidth\":0,\"ticks\":\"\"}}}],\"scatterpolargl\":[{\"type\":\"scatterpolargl\",\"marker\":{\"colorbar\":{\"outlinewidth\":0,\"ticks\":\"\"}}}],\"bar\":[{\"error_x\":{\"color\":\"#2a3f5f\"},\"error_y\":{\"color\":\"#2a3f5f\"},\"marker\":{\"line\":{\"color\":\"#E5ECF6\",\"width\":0.5},\"pattern\":{\"fillmode\":\"overlay\",\"size\":10,\"solidity\":0.2}},\"type\":\"bar\"}],\"scattergeo\":[{\"type\":\"scattergeo\",\"marker\":{\"colorbar\":{\"outlinewidth\":0,\"ticks\":\"\"}}}],\"scatterpolar\":[{\"type\":\"scatterpolar\",\"marker\":{\"colorbar\":{\"outlinewidth\":0,\"ticks\":\"\"}}}],\"histogram\":[{\"marker\":{\"pattern\":{\"fillmode\":\"overlay\",\"size\":10,\"solidity\":0.2}},\"type\":\"histogram\"}],\"scattergl\":[{\"type\":\"scattergl\",\"marker\":{\"colorbar\":{\"outlinewidth\":0,\"ticks\":\"\"}}}],\"scatter3d\":[{\"type\":\"scatter3d\",\"line\":{\"colorbar\":{\"outlinewidth\":0,\"ticks\":\"\"}},\"marker\":{\"colorbar\":{\"outlinewidth\":0,\"ticks\":\"\"}}}],\"scattermapbox\":[{\"type\":\"scattermapbox\",\"marker\":{\"colorbar\":{\"outlinewidth\":0,\"ticks\":\"\"}}}],\"scatterternary\":[{\"type\":\"scatterternary\",\"marker\":{\"colorbar\":{\"outlinewidth\":0,\"ticks\":\"\"}}}],\"scattercarpet\":[{\"type\":\"scattercarpet\",\"marker\":{\"colorbar\":{\"outlinewidth\":0,\"ticks\":\"\"}}}],\"carpet\":[{\"aaxis\":{\"endlinecolor\":\"#2a3f5f\",\"gridcolor\":\"white\",\"linecolor\":\"white\",\"minorgridcolor\":\"white\",\"startlinecolor\":\"#2a3f5f\"},\"baxis\":{\"endlinecolor\":\"#2a3f5f\",\"gridcolor\":\"white\",\"linecolor\":\"white\",\"minorgridcolor\":\"white\",\"startlinecolor\":\"#2a3f5f\"},\"type\":\"carpet\"}],\"table\":[{\"cells\":{\"fill\":{\"color\":\"#EBF0F8\"},\"line\":{\"color\":\"white\"}},\"header\":{\"fill\":{\"color\":\"#C8D4E3\"},\"line\":{\"color\":\"white\"}},\"type\":\"table\"}],\"barpolar\":[{\"marker\":{\"line\":{\"color\":\"#E5ECF6\",\"width\":0.5},\"pattern\":{\"fillmode\":\"overlay\",\"size\":10,\"solidity\":0.2}},\"type\":\"barpolar\"}],\"pie\":[{\"automargin\":true,\"type\":\"pie\"}]},\"layout\":{\"autotypenumbers\":\"strict\",\"colorway\":[\"#636efa\",\"#EF553B\",\"#00cc96\",\"#ab63fa\",\"#FFA15A\",\"#19d3f3\",\"#FF6692\",\"#B6E880\",\"#FF97FF\",\"#FECB52\"],\"font\":{\"color\":\"#2a3f5f\"},\"hovermode\":\"closest\",\"hoverlabel\":{\"align\":\"left\"},\"paper_bgcolor\":\"white\",\"plot_bgcolor\":\"#E5ECF6\",\"polar\":{\"bgcolor\":\"#E5ECF6\",\"angularaxis\":{\"gridcolor\":\"white\",\"linecolor\":\"white\",\"ticks\":\"\"},\"radialaxis\":{\"gridcolor\":\"white\",\"linecolor\":\"white\",\"ticks\":\"\"}},\"ternary\":{\"bgcolor\":\"#E5ECF6\",\"aaxis\":{\"gridcolor\":\"white\",\"linecolor\":\"white\",\"ticks\":\"\"},\"baxis\":{\"gridcolor\":\"white\",\"linecolor\":\"white\",\"ticks\":\"\"},\"caxis\":{\"gridcolor\":\"white\",\"linecolor\":\"white\",\"ticks\":\"\"}},\"coloraxis\":{\"colorbar\":{\"outlinewidth\":0,\"ticks\":\"\"}},\"colorscale\":{\"sequential\":[[0.0,\"#0d0887\"],[0.1111111111111111,\"#46039f\"],[0.2222222222222222,\"#7201a8\"],[0.3333333333333333,\"#9c179e\"],[0.4444444444444444,\"#bd3786\"],[0.5555555555555556,\"#d8576b\"],[0.6666666666666666,\"#ed7953\"],[0.7777777777777778,\"#fb9f3a\"],[0.8888888888888888,\"#fdca26\"],[1.0,\"#f0f921\"]],\"sequentialminus\":[[0.0,\"#0d0887\"],[0.1111111111111111,\"#46039f\"],[0.2222222222222222,\"#7201a8\"],[0.3333333333333333,\"#9c179e\"],[0.4444444444444444,\"#bd3786\"],[0.5555555555555556,\"#d8576b\"],[0.6666666666666666,\"#ed7953\"],[0.7777777777777778,\"#fb9f3a\"],[0.8888888888888888,\"#fdca26\"],[1.0,\"#f0f921\"]],\"diverging\":[[0,\"#8e0152\"],[0.1,\"#c51b7d\"],[0.2,\"#de77ae\"],[0.3,\"#f1b6da\"],[0.4,\"#fde0ef\"],[0.5,\"#f7f7f7\"],[0.6,\"#e6f5d0\"],[0.7,\"#b8e186\"],[0.8,\"#7fbc41\"],[0.9,\"#4d9221\"],[1,\"#276419\"]]},\"xaxis\":{\"gridcolor\":\"white\",\"linecolor\":\"white\",\"ticks\":\"\",\"title\":{\"standoff\":15},\"zerolinecolor\":\"white\",\"automargin\":true,\"zerolinewidth\":2},\"yaxis\":{\"gridcolor\":\"white\",\"linecolor\":\"white\",\"ticks\":\"\",\"title\":{\"standoff\":15},\"zerolinecolor\":\"white\",\"automargin\":true,\"zerolinewidth\":2},\"scene\":{\"xaxis\":{\"backgroundcolor\":\"#E5ECF6\",\"gridcolor\":\"white\",\"linecolor\":\"white\",\"showbackground\":true,\"ticks\":\"\",\"zerolinecolor\":\"white\",\"gridwidth\":2},\"yaxis\":{\"backgroundcolor\":\"#E5ECF6\",\"gridcolor\":\"white\",\"linecolor\":\"white\",\"showbackground\":true,\"ticks\":\"\",\"zerolinecolor\":\"white\",\"gridwidth\":2},\"zaxis\":{\"backgroundcolor\":\"#E5ECF6\",\"gridcolor\":\"white\",\"linecolor\":\"white\",\"showbackground\":true,\"ticks\":\"\",\"zerolinecolor\":\"white\",\"gridwidth\":2}},\"shapedefaults\":{\"line\":{\"color\":\"#2a3f5f\"}},\"annotationdefaults\":{\"arrowcolor\":\"#2a3f5f\",\"arrowhead\":0,\"arrowwidth\":1},\"geo\":{\"bgcolor\":\"white\",\"landcolor\":\"#E5ECF6\",\"subunitcolor\":\"white\",\"showland\":true,\"showlakes\":true,\"lakecolor\":\"white\"},\"title\":{\"x\":0.05},\"mapbox\":{\"style\":\"light\"}}},\"mapbox\":{\"domain\":{\"x\":[0.0,1.0],\"y\":[0.0,1.0]},\"center\":{\"lat\":48.8566,\"lon\":2.3522},\"zoom\":11,\"style\":\"carto-positron\"},\"legend\":{\"title\":{\"text\":\"etat_annot\"},\"tracegroupgap\":0},\"margin\":{\"t\":30,\"r\":0,\"l\":0,\"b\":0},\"height\":600,\"title\":{\"text\":\"Carte des poubelles annot\\u00e9es \\u00e0 Paris\"}},                        {\"responsive\": true}                    ).then(function(){\n",
       "                            \n",
       "var gd = document.getElementById('5f25978e-db6c-4b54-b292-e0fdcef08572');\n",
       "var x = new MutationObserver(function (mutations, observer) {{\n",
       "        var display = window.getComputedStyle(gd).display;\n",
       "        if (!display || display === 'none') {{\n",
       "            console.log([gd, 'removed!']);\n",
       "            Plotly.purge(gd);\n",
       "            observer.disconnect();\n",
       "        }}\n",
       "}});\n",
       "\n",
       "// Listen for the removal of the full notebook cells\n",
       "var notebookContainer = gd.closest('#notebook-container');\n",
       "if (notebookContainer) {{\n",
       "    x.observe(notebookContainer, {childList: true});\n",
       "}}\n",
       "\n",
       "// Listen for the clearing of the current output cell\n",
       "var outputEl = gd.closest('.output');\n",
       "if (outputEl) {{\n",
       "    x.observe(outputEl, {childList: true});\n",
       "}}\n",
       "\n",
       "                        })                };                });            </script>        </div>"
      ]
     },
     "metadata": {},
     "output_type": "display_data"
    }
   ],
   "execution_count": 8
  },
  {
   "metadata": {
    "ExecuteTime": {
     "end_time": "2025-07-06T16:01:35.199735Z",
     "start_time": "2025-07-06T16:01:35.188492Z"
    }
   },
   "cell_type": "code",
   "source": "ff",
   "id": "b4d47dcb6a371514",
   "outputs": [
    {
     "ename": "NameError",
     "evalue": "name 'ff' is not defined",
     "output_type": "error",
     "traceback": [
      "\u001B[0;31m---------------------------------------------------------------------------\u001B[0m",
      "\u001B[0;31mNameError\u001B[0m                                 Traceback (most recent call last)",
      "Cell \u001B[0;32mIn[13], line 1\u001B[0m\n\u001B[0;32m----> 1\u001B[0m ff\n",
      "\u001B[0;31mNameError\u001B[0m: name 'ff' is not defined"
     ]
    }
   ],
   "execution_count": 13
  }
 ],
 "metadata": {
  "kernelspec": {
   "display_name": "Python 3",
   "language": "python",
   "name": "python3"
  },
  "language_info": {
   "codemirror_mode": {
    "name": "ipython",
    "version": 2
   },
   "file_extension": ".py",
   "mimetype": "text/x-python",
   "name": "python",
   "nbconvert_exporter": "python",
   "pygments_lexer": "ipython2",
   "version": "2.7.6"
  }
 },
 "nbformat": 4,
 "nbformat_minor": 5
}
